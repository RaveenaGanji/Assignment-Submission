{
  "nbformat": 4,
  "nbformat_minor": 0,
  "metadata": {
    "colab": {
      "name": "Day4.ipynb",
      "provenance": [],
      "authorship_tag": "ABX9TyPJnHAW+uAhQlIKQnQqvKQa",
      "include_colab_link": true
    },
    "kernelspec": {
      "name": "python3",
      "display_name": "Python 3"
    },
    "language_info": {
      "name": "python"
    }
  },
  "cells": [
    {
      "cell_type": "markdown",
      "metadata": {
        "id": "view-in-github",
        "colab_type": "text"
      },
      "source": [
        "<a href=\"https://colab.research.google.com/github/RaveenaGanji/Assignment-Submission/blob/main/Day4.ipynb\" target=\"_parent\"><img src=\"https://colab.research.google.com/assets/colab-badge.svg\" alt=\"Open In Colab\"/></a>"
      ]
    },
    {
      "cell_type": "code",
      "metadata": {
        "colab": {
          "base_uri": "https://localhost:8080/"
        },
        "id": "neHREPWDNZ4U",
        "outputId": "4c44e5e9-c6b1-44c2-e995-11f5ba656308"
      },
      "source": [
        "#Python program to convert Centigrade to Fahrenheit\n",
        "import math\n",
        "c=int(input(\"centrigrade:\"))\n",
        "f=int(c*9/5)+32\n",
        "print('The temperature in fahrenheit is:',f)"
      ],
      "execution_count": 4,
      "outputs": [
        {
          "output_type": "stream",
          "text": [
            "centrigrade:50\n",
            "The temperature in fahrenheit is: 122\n"
          ],
          "name": "stdout"
        }
      ]
    }
  ]
}