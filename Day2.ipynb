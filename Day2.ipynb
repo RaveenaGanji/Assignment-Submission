{
  "nbformat": 4,
  "nbformat_minor": 0,
  "metadata": {
    "colab": {
      "name": "Day2.ipynb",
      "provenance": [],
      "authorship_tag": "ABX9TyPgQyh2efnz4RB/fqpFXCGT",
      "include_colab_link": true
    },
    "kernelspec": {
      "name": "python3",
      "display_name": "Python 3"
    },
    "language_info": {
      "name": "python"
    }
  },
  "cells": [
    {
      "cell_type": "markdown",
      "metadata": {
        "id": "view-in-github",
        "colab_type": "text"
      },
      "source": [
        "<a href=\"https://colab.research.google.com/github/RaveenaGanji/Assignment-Submission/blob/main/Day2.ipynb\" target=\"_parent\"><img src=\"https://colab.research.google.com/assets/colab-badge.svg\" alt=\"Open In Colab\"/></a>"
      ]
    },
    {
      "cell_type": "code",
      "metadata": {
        "colab": {
          "base_uri": "https://localhost:8080/"
        },
        "id": "MTP_wr1Y1Qv2",
        "outputId": "2188c8cc-4f15-420b-d3b3-271312682679"
      },
      "source": [
        "#Assignment 2\n",
        "list=[1,2,3,4,4,6,5]\n",
        "val=4\n",
        "list.remove(val)\n",
        "print(list)\n"
      ],
      "execution_count": null,
      "outputs": [
        {
          "output_type": "stream",
          "text": [
            "[1, 2, 3, 4, 6, 5]\n"
          ],
          "name": "stdout"
        }
      ]
    },
    {
      "cell_type": "code",
      "metadata": {
        "colab": {
          "base_uri": "https://localhost:8080/"
        },
        "id": "iEpScjNw6YxR",
        "outputId": "90bcd8eb-3886-48d4-9750-b490fbdbb595"
      },
      "source": [
        "#Assignment 3\n",
        "import string\n",
        "def ispangram(str):\n",
        "   alphabet = \"abcdefghijklmnopqrstuvwxyz\"\n",
        "   for char in alphabet:\n",
        "      if char not in str.lower():\n",
        "         return False\n",
        "   return True\n",
        "# main\n",
        "string = 'i live in hyderabad'\n",
        "if(ispangram(string) == True):\n",
        "   print(\"Yes\")\n",
        "else:\n",
        "   print(\"No\")"
      ],
      "execution_count": null,
      "outputs": [
        {
          "output_type": "stream",
          "text": [
            "No\n"
          ],
          "name": "stdout"
        }
      ]
    },
    {
      "cell_type": "code",
      "metadata": {
        "colab": {
          "base_uri": "https://localhost:8080/"
        },
        "id": "wQXNAM61-V0T",
        "outputId": "7f8b2f29-6047-44e5-9ed7-ff992efb846a"
      },
      "source": [
        "import random\n",
        "import string\n",
        "    \n",
        "def rand_pass(size):\n",
        "        \n",
        "\n",
        "    generate_pass = ''.join([random.choice( string.ascii_letters + string.digits)\n",
        "                                            \n",
        "    for n in range(size)])\n",
        "                            \n",
        "    return generate_pass\n",
        "     \n",
        "otp = rand_pass(10)\n",
        "print(\"otp is:\",otp)"
      ],
      "execution_count": 59,
      "outputs": [
        {
          "output_type": "stream",
          "text": [
            "otp is: Wkm4DSmSeG\n"
          ],
          "name": "stdout"
        }
      ]
    }
  ]
}